{
  "nbformat": 4,
  "nbformat_minor": 0,
  "metadata": {
    "colab": {
      "provenance": []
    },
    "kernelspec": {
      "name": "python3",
      "display_name": "Python 3"
    },
    "language_info": {
      "name": "python"
    }
  },
  "cells": [
    {
      "cell_type": "code",
      "execution_count": 1,
      "metadata": {
        "colab": {
          "base_uri": "https://localhost:8080/"
        },
        "id": "rCsyaiuWN3SD",
        "outputId": "8c0dab9a-f809-40ab-d402-698c8639a720"
      },
      "outputs": [
        {
          "output_type": "stream",
          "name": "stdout",
          "text": [
            "Mounted at /content/drive\n",
            " sample_submission.csv\n",
            " Social_Network_Ads.csv.xls\n",
            " test.csv\n",
            " train.csv\n"
          ]
        }
      ],
      "source": [
        "# Mount Google Drive to upload files\n",
        "from google.colab import drive\n",
        "drive.mount('/content/drive')\n",
        "\n",
        "# Navigate to the directory where your files are stored\n",
        "!ls '/content/drive/My Drive/'"
      ]
    },
    {
      "cell_type": "markdown",
      "source": [
        "Step 2: Import Libraries"
      ],
      "metadata": {
        "id": "8PtoNTD8Z5ot"
      }
    },
    {
      "cell_type": "code",
      "source": [
        "import pandas as pd\n",
        "import numpy as np\n",
        "import matplotlib.pyplot as plt\n",
        "from sklearn.model_selection import train_test_split\n",
        "from sklearn.preprocessing import OneHotEncoder\n",
        "from tensorflow.keras.models import Sequential\n",
        "from tensorflow.keras.layers import Conv2D, MaxPooling2D, Flatten, Dense, Dropout\n",
        "from tensorflow.keras.utils import to_categorical"
      ],
      "metadata": {
        "id": "g4Waq3QNPqjS"
      },
      "execution_count": 2,
      "outputs": []
    },
    {
      "cell_type": "markdown",
      "source": [
        "Step 3: Load Data"
      ],
      "metadata": {
        "id": "s_FH6LhHZ64H"
      }
    },
    {
      "cell_type": "code",
      "source": [
        "# Load train and test data\n",
        "train = pd.read_csv('/content/drive/My Drive/train.csv')\n",
        "test = pd.read_csv('/content/drive/My Drive/test.csv')\n",
        "sample_submission = pd.read_csv('/content/drive/My Drive/sample_submission.csv')\n",
        "\n",
        "# Split data into features and labels\n",
        "X = train.iloc[:, 1:].values  # Pixel values\n",
        "y = train.iloc[:, 0].values   # Labels (digits)\n",
        "\n",
        "# Normalize the pixel values (0-255 -> 0-1)\n",
        "X = X / 255.0\n",
        "test = test / 255.0\n",
        "\n",
        "# Reshape data for CNN (28x28x1)\n",
        "X = X.reshape(-1, 28, 28, 1)\n",
        "test = test.values.reshape(-1, 28, 28, 1)\n",
        "\n",
        "# One-hot encode labels\n",
        "y = to_categorical(y, num_classes=10)\n"
      ],
      "metadata": {
        "id": "YtKFs_UuQXvx"
      },
      "execution_count": 3,
      "outputs": []
    },
    {
      "cell_type": "markdown",
      "source": [
        "Step 4: Train-Test Split"
      ],
      "metadata": {
        "id": "t8RelPvvaC96"
      }
    },
    {
      "cell_type": "code",
      "source": [
        "# Split into training and validation sets\n",
        "X_train, X_val, y_train, y_val = train_test_split(X, y, test_size=0.2, random_state=42)"
      ],
      "metadata": {
        "id": "UbqJ8KlZQcys"
      },
      "execution_count": 4,
      "outputs": []
    },
    {
      "cell_type": "markdown",
      "source": [
        "Step 5: Build CNN Model"
      ],
      "metadata": {
        "id": "wF8Lg-D2aHoh"
      }
    },
    {
      "cell_type": "code",
      "source": [
        "model = Sequential([\n",
        "    Conv2D(32, kernel_size=(3, 3), activation='relu', input_shape=(28, 28, 1)),\n",
        "    MaxPooling2D(pool_size=(2, 2)),\n",
        "    Dropout(0.25),\n",
        "    Conv2D(64, kernel_size=(3, 3), activation='relu'),\n",
        "    MaxPooling2D(pool_size=(2, 2)),\n",
        "    Dropout(0.25),\n",
        "    Flatten(),\n",
        "    Dense(128, activation='relu'),\n",
        "    Dropout(0.5),\n",
        "    Dense(10, activation='softmax')\n",
        "])\n",
        "\n",
        "# Compile the model\n",
        "model.compile(optimizer='adam', loss='categorical_crossentropy', metrics=['accuracy'])"
      ],
      "metadata": {
        "colab": {
          "base_uri": "https://localhost:8080/"
        },
        "id": "XVqcJDOwQgrn",
        "outputId": "6c42f2c4-2844-4a02-9f94-2879c63fcec9"
      },
      "execution_count": 5,
      "outputs": [
        {
          "output_type": "stream",
          "name": "stderr",
          "text": [
            "/usr/local/lib/python3.10/dist-packages/keras/src/layers/convolutional/base_conv.py:107: UserWarning: Do not pass an `input_shape`/`input_dim` argument to a layer. When using Sequential models, prefer using an `Input(shape)` object as the first layer in the model instead.\n",
            "  super().__init__(activity_regularizer=activity_regularizer, **kwargs)\n"
          ]
        }
      ]
    },
    {
      "cell_type": "markdown",
      "source": [
        "Step 6: Train the Model"
      ],
      "metadata": {
        "id": "17--NU4QaLHg"
      }
    },
    {
      "cell_type": "code",
      "source": [
        "history = model.fit(\n",
        "    X_train, y_train,\n",
        "    validation_data=(X_val, y_val),\n",
        "    epochs=15,\n",
        "    batch_size=128,\n",
        "    verbose=1\n",
        ")"
      ],
      "metadata": {
        "colab": {
          "base_uri": "https://localhost:8080/"
        },
        "id": "w6ccyY-9Qi3g",
        "outputId": "d7ae6b66-3554-4719-96b7-e00ed11f79f6"
      },
      "execution_count": 6,
      "outputs": [
        {
          "output_type": "stream",
          "name": "stdout",
          "text": [
            "Epoch 1/15\n",
            "\u001b[1m263/263\u001b[0m \u001b[32m━━━━━━━━━━━━━━━━━━━━\u001b[0m\u001b[37m\u001b[0m \u001b[1m35s\u001b[0m 128ms/step - accuracy: 0.6947 - loss: 0.9354 - val_accuracy: 0.9639 - val_loss: 0.1184\n",
            "Epoch 2/15\n",
            "\u001b[1m263/263\u001b[0m \u001b[32m━━━━━━━━━━━━━━━━━━━━\u001b[0m\u001b[37m\u001b[0m \u001b[1m44s\u001b[0m 140ms/step - accuracy: 0.9492 - loss: 0.1728 - val_accuracy: 0.9771 - val_loss: 0.0745\n",
            "Epoch 3/15\n",
            "\u001b[1m263/263\u001b[0m \u001b[32m━━━━━━━━━━━━━━━━━━━━\u001b[0m\u001b[37m\u001b[0m \u001b[1m37s\u001b[0m 126ms/step - accuracy: 0.9653 - loss: 0.1154 - val_accuracy: 0.9825 - val_loss: 0.0570\n",
            "Epoch 4/15\n",
            "\u001b[1m263/263\u001b[0m \u001b[32m━━━━━━━━━━━━━━━━━━━━\u001b[0m\u001b[37m\u001b[0m \u001b[1m34s\u001b[0m 127ms/step - accuracy: 0.9713 - loss: 0.0967 - val_accuracy: 0.9826 - val_loss: 0.0553\n",
            "Epoch 5/15\n",
            "\u001b[1m263/263\u001b[0m \u001b[32m━━━━━━━━━━━━━━━━━━━━\u001b[0m\u001b[37m\u001b[0m \u001b[1m41s\u001b[0m 128ms/step - accuracy: 0.9737 - loss: 0.0873 - val_accuracy: 0.9870 - val_loss: 0.0427\n",
            "Epoch 6/15\n",
            "\u001b[1m263/263\u001b[0m \u001b[32m━━━━━━━━━━━━━━━━━━━━\u001b[0m\u001b[37m\u001b[0m \u001b[1m40s\u001b[0m 126ms/step - accuracy: 0.9763 - loss: 0.0754 - val_accuracy: 0.9873 - val_loss: 0.0393\n",
            "Epoch 7/15\n",
            "\u001b[1m263/263\u001b[0m \u001b[32m━━━━━━━━━━━━━━━━━━━━\u001b[0m\u001b[37m\u001b[0m \u001b[1m42s\u001b[0m 131ms/step - accuracy: 0.9798 - loss: 0.0646 - val_accuracy: 0.9888 - val_loss: 0.0379\n",
            "Epoch 8/15\n",
            "\u001b[1m263/263\u001b[0m \u001b[32m━━━━━━━━━━━━━━━━━━━━\u001b[0m\u001b[37m\u001b[0m \u001b[1m39s\u001b[0m 124ms/step - accuracy: 0.9815 - loss: 0.0588 - val_accuracy: 0.9881 - val_loss: 0.0374\n",
            "Epoch 9/15\n",
            "\u001b[1m263/263\u001b[0m \u001b[32m━━━━━━━━━━━━━━━━━━━━\u001b[0m\u001b[37m\u001b[0m \u001b[1m41s\u001b[0m 124ms/step - accuracy: 0.9826 - loss: 0.0546 - val_accuracy: 0.9880 - val_loss: 0.0396\n",
            "Epoch 10/15\n",
            "\u001b[1m263/263\u001b[0m \u001b[32m━━━━━━━━━━━━━━━━━━━━\u001b[0m\u001b[37m\u001b[0m \u001b[1m45s\u001b[0m 140ms/step - accuracy: 0.9841 - loss: 0.0518 - val_accuracy: 0.9906 - val_loss: 0.0327\n",
            "Epoch 11/15\n",
            "\u001b[1m263/263\u001b[0m \u001b[32m━━━━━━━━━━━━━━━━━━━━\u001b[0m\u001b[37m\u001b[0m \u001b[1m38s\u001b[0m 129ms/step - accuracy: 0.9856 - loss: 0.0495 - val_accuracy: 0.9899 - val_loss: 0.0339\n",
            "Epoch 12/15\n",
            "\u001b[1m263/263\u001b[0m \u001b[32m━━━━━━━━━━━━━━━━━━━━\u001b[0m\u001b[37m\u001b[0m \u001b[1m40s\u001b[0m 126ms/step - accuracy: 0.9845 - loss: 0.0478 - val_accuracy: 0.9893 - val_loss: 0.0354\n",
            "Epoch 13/15\n",
            "\u001b[1m263/263\u001b[0m \u001b[32m━━━━━━━━━━━━━━━━━━━━\u001b[0m\u001b[37m\u001b[0m \u001b[1m41s\u001b[0m 124ms/step - accuracy: 0.9866 - loss: 0.0423 - val_accuracy: 0.9907 - val_loss: 0.0305\n",
            "Epoch 14/15\n",
            "\u001b[1m263/263\u001b[0m \u001b[32m━━━━━━━━━━━━━━━━━━━━\u001b[0m\u001b[37m\u001b[0m \u001b[1m33s\u001b[0m 126ms/step - accuracy: 0.9882 - loss: 0.0376 - val_accuracy: 0.9911 - val_loss: 0.0304\n",
            "Epoch 15/15\n",
            "\u001b[1m263/263\u001b[0m \u001b[32m━━━━━━━━━━━━━━━━━━━━\u001b[0m\u001b[37m\u001b[0m \u001b[1m42s\u001b[0m 127ms/step - accuracy: 0.9875 - loss: 0.0408 - val_accuracy: 0.9901 - val_loss: 0.0303\n"
          ]
        }
      ]
    },
    {
      "cell_type": "markdown",
      "source": [
        "Step 7: Evaluate the Model"
      ],
      "metadata": {
        "id": "VS5IH11TaOoI"
      }
    },
    {
      "cell_type": "code",
      "source": [
        "# Evaluate on validation data\n",
        "val_loss, val_acc = model.evaluate(X_val, y_val)\n",
        "print(f\"Validation Accuracy: {val_acc * 100:.2f}%\")"
      ],
      "metadata": {
        "colab": {
          "base_uri": "https://localhost:8080/"
        },
        "id": "BU3EFkVBQm8V",
        "outputId": "6ecaf5d2-9673-45b7-c406-42663b112d94"
      },
      "execution_count": 7,
      "outputs": [
        {
          "output_type": "stream",
          "name": "stdout",
          "text": [
            "\u001b[1m263/263\u001b[0m \u001b[32m━━━━━━━━━━━━━━━━━━━━\u001b[0m\u001b[37m\u001b[0m \u001b[1m2s\u001b[0m 9ms/step - accuracy: 0.9892 - loss: 0.0346\n",
            "Validation Accuracy: 99.01%\n"
          ]
        }
      ]
    },
    {
      "cell_type": "markdown",
      "source": [
        "Step 8: Generate Predictions"
      ],
      "metadata": {
        "id": "dEGG7ih1aSXD"
      }
    },
    {
      "cell_type": "code",
      "source": [
        "# Predict on test data\n",
        "predictions = model.predict(test)\n",
        "predicted_labels = np.argmax(predictions, axis=1)\n",
        "\n",
        "# Create submission file\n",
        "submission = pd.DataFrame({'ImageId': np.arange(1, len(predicted_labels) + 1), 'Label': predicted_labels})\n",
        "submission.to_csv('/content/drive/My Drive/mnist_submission.csv', index=False)\n",
        "print(\"Submission file saved!\")\n"
      ],
      "metadata": {
        "colab": {
          "base_uri": "https://localhost:8080/"
        },
        "id": "1p-mbTBxS7Tf",
        "outputId": "a79c982f-46e6-40d8-c8fa-0aa745013637"
      },
      "execution_count": 8,
      "outputs": [
        {
          "output_type": "stream",
          "name": "stdout",
          "text": [
            "\u001b[1m875/875\u001b[0m \u001b[32m━━━━━━━━━━━━━━━━━━━━\u001b[0m\u001b[37m\u001b[0m \u001b[1m8s\u001b[0m 9ms/step\n",
            "Submission file saved!\n"
          ]
        }
      ]
    },
    {
      "cell_type": "markdown",
      "source": [
        "Step 9: Plot Training and Validation Accuracy"
      ],
      "metadata": {
        "id": "DDofcoNGaVSy"
      }
    },
    {
      "cell_type": "code",
      "source": [
        "plt.plot(history.history['accuracy'], label='Train Accuracy')\n",
        "plt.plot(history.history['val_accuracy'], label='Validation Accuracy')\n",
        "plt.xlabel('Epochs')\n",
        "plt.ylabel('Accuracy')\n",
        "plt.legend()\n",
        "plt.show()\n"
      ],
      "metadata": {
        "colab": {
          "base_uri": "https://localhost:8080/",
          "height": 449
        },
        "id": "TXkyJSehZkrN",
        "outputId": "37f4435d-d30c-45b8-c9ac-3955f3072105"
      },
      "execution_count": 9,
      "outputs": [
        {
          "output_type": "display_data",
          "data": {
            "text/plain": [
              "<Figure size 640x480 with 1 Axes>"
            ],
            "image/png": "[encoded data removed]"
          },
          "metadata": {}
        }
      ]
    },
    {
      "cell_type": "code",
      "source": [
        "# Visualize an image from the test dataset\n",
        "plt.imshow(test[0].reshape(28, 28), cmap='gray')\n",
        "plt.title(\"Test Digit from Dataset\")\n",
        "plt.axis('off')\n",
        "plt.show()\n",
        "\n",
        "# Predict the digit\n",
        "image_reshaped = test[0].reshape(1, 28, 28, 1)  # Ensure the image is reshaped correctly for model input\n",
        "prediction = model.predict(image_reshaped)  # Get the prediction\n",
        "predicted_digit = prediction.argmax()  # Extract the predicted digit\n",
        "confidence_scores = prediction.flatten()  # Flatten the confidence scores array\n",
        "\n",
        "# Display the image and prediction\n",
        "plt.imshow(test[0].reshape(28, 28), cmap='gray')\n",
        "plt.title(f\"Predicted Digit: {predicted_digit}\")\n",
        "plt.axis('off')\n",
        "plt.show()\n",
        "\n",
        "print(f\"Predicted Digit: {predicted_digit}\")\n",
        "print(f\"Confidence Scores: {confidence_scores}\")\n"
      ],
      "metadata": {
        "colab": {
          "base_uri": "https://localhost:8080/",
          "height": 908
        },
        "id": "0yeLpJO1omn8",
        "outputId": "f4383ee8-7b10-4e7b-9e2c-c6b88f3295e9"
      },
      "execution_count": 16,
      "outputs": [
        {
          "output_type": "display_data",
          "data": {
            "text/plain": [
              "<Figure size 640x480 with 1 Axes>"
            ],
            "image/png": "[encoded data removed]"
          },
          "metadata": {}
        },
        {
          "output_type": "stream",
          "name": "stdout",
          "text": [
            "\u001b[1m1/1\u001b[0m \u001b[32m━━━━━━━━━━━━━━━━━━━━\u001b[0m\u001b[37m\u001b[0m \u001b[1m0s\u001b[0m 355ms/step\n"
          ]
        },
        {
          "output_type": "display_data",
          "data": {
            "text/plain": [
              "<Figure size 640x480 with 1 Axes>"
            ],
            "image/png": "[encoded data removed]"
          },
          "metadata": {}
        },
        {
          "output_type": "stream",
          "name": "stdout",
          "text": [
            "Predicted Digit: 2\n",
            "Confidence Scores: [3.1706249e-11 3.7224396e-10 9.9999988e-01 7.7564188e-08 3.7000795e-13\n",
            " 1.0381881e-12 2.9236464e-12 3.4285236e-08 2.3363280e-09 1.9893635e-11]\n"
          ]
        }
      ]
    },
    {
      "cell_type": "code",
      "source": [],
      "metadata": {
        "id": "IthMmVlSp6fp"
      },
      "execution_count": null,
      "outputs": []
    }
  ]
}
